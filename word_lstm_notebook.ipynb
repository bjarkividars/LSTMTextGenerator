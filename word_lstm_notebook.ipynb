{
  "nbformat": 4,
  "nbformat_minor": 0,
  "metadata": {
    "colab": {
      "provenance": []
    },
    "kernelspec": {
      "name": "python3",
      "display_name": "Python 3"
    },
    "language_info": {
      "name": "python"
    },
    "accelerator": "GPU",
    "gpuClass": "premium"
  },
  "cells": [
    {
      "cell_type": "code",
      "execution_count": null,
      "metadata": {
        "colab": {
          "base_uri": "https://localhost:8080/"
        },
        "id": "Qg3VsAf92dkP",
        "outputId": "6b8b5459-7fe1-4dc1-92ce-c854c1ee76b9"
      },
      "outputs": [
        {
          "output_type": "stream",
          "name": "stdout",
          "text": [
            "Looking in indexes: https://pypi.org/simple, https://us-python.pkg.dev/colab-wheels/public/simple/\n",
            "Requirement already satisfied: pandasql in /usr/local/lib/python3.7/dist-packages (0.7.3)\n",
            "Requirement already satisfied: pandas in /usr/local/lib/python3.7/dist-packages (from pandasql) (1.3.5)\n",
            "Requirement already satisfied: sqlalchemy in /usr/local/lib/python3.7/dist-packages (from pandasql) (1.4.44)\n",
            "Requirement already satisfied: numpy in /usr/local/lib/python3.7/dist-packages (from pandasql) (1.21.6)\n",
            "Requirement already satisfied: pytz>=2017.3 in /usr/local/lib/python3.7/dist-packages (from pandas->pandasql) (2022.6)\n",
            "Requirement already satisfied: python-dateutil>=2.7.3 in /usr/local/lib/python3.7/dist-packages (from pandas->pandasql) (2.8.2)\n",
            "Requirement already satisfied: six>=1.5 in /usr/local/lib/python3.7/dist-packages (from python-dateutil>=2.7.3->pandas->pandasql) (1.15.0)\n",
            "Requirement already satisfied: greenlet!=0.4.17 in /usr/local/lib/python3.7/dist-packages (from sqlalchemy->pandasql) (2.0.1)\n",
            "Requirement already satisfied: importlib-metadata in /usr/local/lib/python3.7/dist-packages (from sqlalchemy->pandasql) (4.13.0)\n",
            "Requirement already satisfied: typing-extensions>=3.6.4 in /usr/local/lib/python3.7/dist-packages (from importlib-metadata->sqlalchemy->pandasql) (4.1.1)\n",
            "Requirement already satisfied: zipp>=0.5 in /usr/local/lib/python3.7/dist-packages (from importlib-metadata->sqlalchemy->pandasql) (3.10.0)\n",
            "Looking in indexes: https://pypi.org/simple, https://us-python.pkg.dev/colab-wheels/public/simple/\n",
            "Requirement already satisfied: tokenizer in /usr/local/lib/python3.7/dist-packages (3.4.2)\n"
          ]
        }
      ],
      "source": [
        "!pip install pandasql\n",
        "!pip install tokenizer"
      ]
    },
    {
      "cell_type": "code",
      "source": [
        "import pandas as pd\n",
        "import matplotlib.pyplot as plt\n",
        "from sklearn.model_selection import train_test_split\n",
        "import re\n",
        "from tokenizer.tokenizer import split_into_sentences\n",
        "from torchtext.vocab import build_vocab_from_iterator\n",
        "import torch\n",
        "import numpy as np"
      ],
      "metadata": {
        "id": "Pt7CNxdy3ovd"
      },
      "execution_count": null,
      "outputs": []
    },
    {
      "cell_type": "code",
      "source": [
        "from pandasql import sqldf\n",
        "pysqldf = lambda q: sqldf(q, globals())"
      ],
      "metadata": {
        "id": "6VtXlHK34jws"
      },
      "execution_count": null,
      "outputs": []
    },
    {
      "cell_type": "code",
      "source": [
        "import os\n",
        "from google.colab import drive\n",
        "\n",
        "path = 'drive/MyDrive/Colab Notebooks/'\n",
        "speeches_2012 = os.path.join(path, 'speeches_2012.csv')\n",
        "speeches_2013 = os.path.join(path, 'speeches_2013.csv')\n",
        "speeches_2014 = os.path.join(path, 'speeches_2014.csv')\n",
        "speeches_2015 = os.path.join(path, 'speeches_2015.csv')"
      ],
      "metadata": {
        "id": "_824888P3A3U"
      },
      "execution_count": null,
      "outputs": []
    },
    {
      "cell_type": "code",
      "source": [
        "vocab_pth = os.path.join(path, 'vocab_final.pth')"
      ],
      "metadata": {
        "id": "CTvGNdxyePW7"
      },
      "execution_count": null,
      "outputs": []
    },
    {
      "cell_type": "code",
      "source": [
        "df_2012 = pd.read_csv(speeches_2012, names=['speech'], delimiter='{')\n",
        "df_2013 = pd.read_csv(speeches_2013, names=['speech'], delimiter='{')\n",
        "df_2014 = pd.read_csv(speeches_2014, names=['speech'], delimiter='{')\n",
        "df_2015 = pd.read_csv(speeches_2015, names=['speech'], delimiter='{')"
      ],
      "metadata": {
        "id": "tylXohgp3mxP"
      },
      "execution_count": null,
      "outputs": []
    },
    {
      "cell_type": "code",
      "source": [
        "df = pd.concat([df_2012, df_2013, df_2014, df_2015])\n",
        "df.sample(frac=1)"
      ],
      "metadata": {
        "id": "AArvW-Mn3ySj",
        "colab": {
          "base_uri": "https://localhost:8080/",
          "height": 424
        },
        "outputId": "51bb84f4-0594-43c6-99dc-36acd5236306"
      },
      "execution_count": null,
      "outputs": [
        {
          "output_type": "execute_result",
          "data": {
            "text/plain": [
              "                                                  speech\n",
              "9406   Hæstv. forseti . Ég þakka hv. þingmanni svarið...\n",
              "5281   Virðulegur forseti . Einmitt vegna þeirra sjón...\n",
              "10251  Herra forseti . Ég þakka fyrir jákvæðar undirt...\n",
              "8410   Frú forseti . Ég held einmitt að þetta sé hlut...\n",
              "5396   Hæstv. forseti . Þetta mál er þannig vaxið að ...\n",
              "...                                                  ...\n",
              "7335   Virðulegi forseti . Ég er fegin að heyra að Sj...\n",
              "1247   Virðulegur forseti . Ég þakka hv. þingmanni fy...\n",
              "7015   Virðulegi forseti . Ég mæli fyrir frumvarpi ti...\n",
              "5862                              Ég var ekki að segja …\n",
              "8619   Virðulegi forseti . Ég vil byrja á að þakka þá...\n",
              "\n",
              "[83261 rows x 1 columns]"
            ],
            "text/html": [
              "\n",
              "  <div id=\"df-d3eb1994-be35-44ca-9e85-78d26a32f228\">\n",
              "    <div class=\"colab-df-container\">\n",
              "      <div>\n",
              "<style scoped>\n",
              "    .dataframe tbody tr th:only-of-type {\n",
              "        vertical-align: middle;\n",
              "    }\n",
              "\n",
              "    .dataframe tbody tr th {\n",
              "        vertical-align: top;\n",
              "    }\n",
              "\n",
              "    .dataframe thead th {\n",
              "        text-align: right;\n",
              "    }\n",
              "</style>\n",
              "<table border=\"1\" class=\"dataframe\">\n",
              "  <thead>\n",
              "    <tr style=\"text-align: right;\">\n",
              "      <th></th>\n",
              "      <th>speech</th>\n",
              "    </tr>\n",
              "  </thead>\n",
              "  <tbody>\n",
              "    <tr>\n",
              "      <th>9406</th>\n",
              "      <td>Hæstv. forseti . Ég þakka hv. þingmanni svarið...</td>\n",
              "    </tr>\n",
              "    <tr>\n",
              "      <th>5281</th>\n",
              "      <td>Virðulegur forseti . Einmitt vegna þeirra sjón...</td>\n",
              "    </tr>\n",
              "    <tr>\n",
              "      <th>10251</th>\n",
              "      <td>Herra forseti . Ég þakka fyrir jákvæðar undirt...</td>\n",
              "    </tr>\n",
              "    <tr>\n",
              "      <th>8410</th>\n",
              "      <td>Frú forseti . Ég held einmitt að þetta sé hlut...</td>\n",
              "    </tr>\n",
              "    <tr>\n",
              "      <th>5396</th>\n",
              "      <td>Hæstv. forseti . Þetta mál er þannig vaxið að ...</td>\n",
              "    </tr>\n",
              "    <tr>\n",
              "      <th>...</th>\n",
              "      <td>...</td>\n",
              "    </tr>\n",
              "    <tr>\n",
              "      <th>7335</th>\n",
              "      <td>Virðulegi forseti . Ég er fegin að heyra að Sj...</td>\n",
              "    </tr>\n",
              "    <tr>\n",
              "      <th>1247</th>\n",
              "      <td>Virðulegur forseti . Ég þakka hv. þingmanni fy...</td>\n",
              "    </tr>\n",
              "    <tr>\n",
              "      <th>7015</th>\n",
              "      <td>Virðulegi forseti . Ég mæli fyrir frumvarpi ti...</td>\n",
              "    </tr>\n",
              "    <tr>\n",
              "      <th>5862</th>\n",
              "      <td>Ég var ekki að segja …</td>\n",
              "    </tr>\n",
              "    <tr>\n",
              "      <th>8619</th>\n",
              "      <td>Virðulegi forseti . Ég vil byrja á að þakka þá...</td>\n",
              "    </tr>\n",
              "  </tbody>\n",
              "</table>\n",
              "<p>83261 rows × 1 columns</p>\n",
              "</div>\n",
              "      <button class=\"colab-df-convert\" onclick=\"convertToInteractive('df-d3eb1994-be35-44ca-9e85-78d26a32f228')\"\n",
              "              title=\"Convert this dataframe to an interactive table.\"\n",
              "              style=\"display:none;\">\n",
              "        \n",
              "  <svg xmlns=\"http://www.w3.org/2000/svg\" height=\"24px\"viewBox=\"0 0 24 24\"\n",
              "       width=\"24px\">\n",
              "    <path d=\"M0 0h24v24H0V0z\" fill=\"none\"/>\n",
              "    <path d=\"M18.56 5.44l.94 2.06.94-2.06 2.06-.94-2.06-.94-.94-2.06-.94 2.06-2.06.94zm-11 1L8.5 8.5l.94-2.06 2.06-.94-2.06-.94L8.5 2.5l-.94 2.06-2.06.94zm10 10l.94 2.06.94-2.06 2.06-.94-2.06-.94-.94-2.06-.94 2.06-2.06.94z\"/><path d=\"M17.41 7.96l-1.37-1.37c-.4-.4-.92-.59-1.43-.59-.52 0-1.04.2-1.43.59L10.3 9.45l-7.72 7.72c-.78.78-.78 2.05 0 2.83L4 21.41c.39.39.9.59 1.41.59.51 0 1.02-.2 1.41-.59l7.78-7.78 2.81-2.81c.8-.78.8-2.07 0-2.86zM5.41 20L4 18.59l7.72-7.72 1.47 1.35L5.41 20z\"/>\n",
              "  </svg>\n",
              "      </button>\n",
              "      \n",
              "  <style>\n",
              "    .colab-df-container {\n",
              "      display:flex;\n",
              "      flex-wrap:wrap;\n",
              "      gap: 12px;\n",
              "    }\n",
              "\n",
              "    .colab-df-convert {\n",
              "      background-color: #E8F0FE;\n",
              "      border: none;\n",
              "      border-radius: 50%;\n",
              "      cursor: pointer;\n",
              "      display: none;\n",
              "      fill: #1967D2;\n",
              "      height: 32px;\n",
              "      padding: 0 0 0 0;\n",
              "      width: 32px;\n",
              "    }\n",
              "\n",
              "    .colab-df-convert:hover {\n",
              "      background-color: #E2EBFA;\n",
              "      box-shadow: 0px 1px 2px rgba(60, 64, 67, 0.3), 0px 1px 3px 1px rgba(60, 64, 67, 0.15);\n",
              "      fill: #174EA6;\n",
              "    }\n",
              "\n",
              "    [theme=dark] .colab-df-convert {\n",
              "      background-color: #3B4455;\n",
              "      fill: #D2E3FC;\n",
              "    }\n",
              "\n",
              "    [theme=dark] .colab-df-convert:hover {\n",
              "      background-color: #434B5C;\n",
              "      box-shadow: 0px 1px 3px 1px rgba(0, 0, 0, 0.15);\n",
              "      filter: drop-shadow(0px 1px 2px rgba(0, 0, 0, 0.3));\n",
              "      fill: #FFFFFF;\n",
              "    }\n",
              "  </style>\n",
              "\n",
              "      <script>\n",
              "        const buttonEl =\n",
              "          document.querySelector('#df-d3eb1994-be35-44ca-9e85-78d26a32f228 button.colab-df-convert');\n",
              "        buttonEl.style.display =\n",
              "          google.colab.kernel.accessAllowed ? 'block' : 'none';\n",
              "\n",
              "        async function convertToInteractive(key) {\n",
              "          const element = document.querySelector('#df-d3eb1994-be35-44ca-9e85-78d26a32f228');\n",
              "          const dataTable =\n",
              "            await google.colab.kernel.invokeFunction('convertToInteractive',\n",
              "                                                     [key], {});\n",
              "          if (!dataTable) return;\n",
              "\n",
              "          const docLinkHtml = 'Like what you see? Visit the ' +\n",
              "            '<a target=\"_blank\" href=https://colab.research.google.com/notebooks/data_table.ipynb>data table notebook</a>'\n",
              "            + ' to learn more about interactive tables.';\n",
              "          element.innerHTML = '';\n",
              "          dataTable['output_type'] = 'display_data';\n",
              "          await google.colab.output.renderOutput(dataTable, element);\n",
              "          const docLink = document.createElement('div');\n",
              "          docLink.innerHTML = docLinkHtml;\n",
              "          element.appendChild(docLink);\n",
              "        }\n",
              "      </script>\n",
              "    </div>\n",
              "  </div>\n",
              "  "
            ]
          },
          "metadata": {},
          "execution_count": 6
        }
      ]
    },
    {
      "cell_type": "code",
      "source": [
        "plt.hist(df['speech'].str.len(), bins=50)"
      ],
      "metadata": {
        "colab": {
          "base_uri": "https://localhost:8080/",
          "height": 682
        },
        "id": "cNL8N1Nv33zz",
        "outputId": "95882a8e-2d4f-4c2f-f543-bc83fe5d7495"
      },
      "execution_count": null,
      "outputs": [
        {
          "output_type": "execute_result",
          "data": {
            "text/plain": [
              "(array([3.9730e+04, 3.1967e+04, 2.3740e+03, 1.9670e+03, 1.3550e+03,\n",
              "        1.1230e+03, 1.0470e+03, 8.3300e+02, 6.7700e+02, 6.1800e+02,\n",
              "        4.1400e+02, 2.9900e+02, 2.0800e+02, 1.3700e+02, 9.4000e+01,\n",
              "        5.1000e+01, 4.9000e+01, 4.1000e+01, 4.6000e+01, 3.5000e+01,\n",
              "        5.3000e+01, 2.8000e+01, 2.3000e+01, 2.4000e+01, 1.1000e+01,\n",
              "        7.0000e+00, 9.0000e+00, 6.0000e+00, 7.0000e+00, 1.0000e+00,\n",
              "        4.0000e+00, 1.0000e+00, 3.0000e+00, 3.0000e+00, 2.0000e+00,\n",
              "        1.0000e+00, 1.0000e+00, 1.0000e+00, 2.0000e+00, 3.0000e+00,\n",
              "        1.0000e+00, 2.0000e+00, 0.0000e+00, 2.0000e+00, 0.0000e+00,\n",
              "        0.0000e+00, 0.0000e+00, 0.0000e+00, 0.0000e+00, 1.0000e+00]),\n",
              " array([1.000000e+00, 1.196820e+03, 2.392640e+03, 3.588460e+03,\n",
              "        4.784280e+03, 5.980100e+03, 7.175920e+03, 8.371740e+03,\n",
              "        9.567560e+03, 1.076338e+04, 1.195920e+04, 1.315502e+04,\n",
              "        1.435084e+04, 1.554666e+04, 1.674248e+04, 1.793830e+04,\n",
              "        1.913412e+04, 2.032994e+04, 2.152576e+04, 2.272158e+04,\n",
              "        2.391740e+04, 2.511322e+04, 2.630904e+04, 2.750486e+04,\n",
              "        2.870068e+04, 2.989650e+04, 3.109232e+04, 3.228814e+04,\n",
              "        3.348396e+04, 3.467978e+04, 3.587560e+04, 3.707142e+04,\n",
              "        3.826724e+04, 3.946306e+04, 4.065888e+04, 4.185470e+04,\n",
              "        4.305052e+04, 4.424634e+04, 4.544216e+04, 4.663798e+04,\n",
              "        4.783380e+04, 4.902962e+04, 5.022544e+04, 5.142126e+04,\n",
              "        5.261708e+04, 5.381290e+04, 5.500872e+04, 5.620454e+04,\n",
              "        5.740036e+04, 5.859618e+04, 5.979200e+04]),\n",
              " <a list of 50 Patch objects>)"
            ]
          },
          "metadata": {},
          "execution_count": 8
        },
        {
          "output_type": "display_data",
          "data": {
            "text/plain": [
              "<Figure size 432x288 with 1 Axes>"
            ],
            "image/png": "[encoded data removed]"
          },
          "metadata": {
            "needs_background": "light"
          }
        }
      ]
    },
    {
      "cell_type": "code",
      "source": [
        "df_snipped = pysqldf('select * from df where length(speech) > 500 and length(speech) < 3000')\n",
        "df_snipped['speech'] = df_snipped['speech'].str.lower()"
      ],
      "metadata": {
        "id": "0uOBVXrk39mV"
      },
      "execution_count": null,
      "outputs": []
    },
    {
      "cell_type": "code",
      "source": [
        "df_train, df_test = train_test_split(df_snipped, test_size=0.10)"
      ],
      "metadata": {
        "id": "qAwIqtdq4ohE"
      },
      "execution_count": null,
      "outputs": []
    },
    {
      "cell_type": "code",
      "source": [
        "def yield_tokens(speech):\n",
        "  for text in speech:\n",
        "    for s in (split_into_sentences(re.sub(\"[\\(\\[].*?[\\)\\]]\", \"\", text))):\n",
        "      yield(s.split())\n",
        "\n",
        "vocab = build_vocab_from_iterator(yield_tokens(df_train.speech), specials = ['<unk>', '<bos>', '<eos>', '<pad>'], min_freq=10)\n",
        "vocab.set_default_index(vocab['<unk>'])"
      ],
      "metadata": {
        "id": "-xK-SjTz4_uz"
      },
      "execution_count": null,
      "outputs": []
    },
    {
      "cell_type": "code",
      "source": [
        "torch.save(vocab, 'vocab_final.pth')"
      ],
      "metadata": {
        "id": "i97Uu_fDrm_w"
      },
      "execution_count": null,
      "outputs": []
    },
    {
      "cell_type": "code",
      "source": [
        "len(vocab)"
      ],
      "metadata": {
        "colab": {
          "base_uri": "https://localhost:8080/"
        },
        "id": "D0CcOq6q5pPr",
        "outputId": "745dcf5b-7b81-47f8-88cf-1eb7b596babb"
      },
      "execution_count": null,
      "outputs": [
        {
          "output_type": "execute_result",
          "data": {
            "text/plain": [
              "29772"
            ]
          },
          "metadata": {},
          "execution_count": 10
        }
      ]
    },
    {
      "cell_type": "code",
      "source": [
        "def text_pipeline(speech):\n",
        "  r = []\n",
        "  for s in (split_into_sentences(speech)):\n",
        "      r.extend(s.split())\n",
        "  return r"
      ],
      "metadata": {
        "id": "qkTHCdJp5wIk"
      },
      "execution_count": null,
      "outputs": []
    },
    {
      "cell_type": "code",
      "source": [
        "vocab = torch.load(vocab_pth)"
      ],
      "metadata": {
        "id": "tQfKms0zixGT"
      },
      "execution_count": null,
      "outputs": []
    },
    {
      "cell_type": "code",
      "source": [
        "def data_process(df):\n",
        "  \n",
        "  processed_data = []\n",
        "  for index, row in df.iterrows():\n",
        "    text = row[0]\n",
        "    text_tensor = torch.tensor(vocab(text_pipeline(text)))\n",
        "    if len(text_tensor) > 200:\n",
        "      t_list = []\n",
        "      text_t_r = text_tensor\n",
        "      while True:\n",
        "        indices = np.where(text_t_r == 5)[0]\n",
        "        l = np.where(indices > 200)[0]\n",
        "        if l.size > 1:\n",
        "          text_t_s = text_t_r[:indices[l[0]]+1]\n",
        "          text_t_r = text_t_r[indices[l[0]]+1:]\n",
        "          t_list.append(text_t_s)\n",
        "        else:\n",
        "          t_list.append(text_t_r)\n",
        "          break\n",
        "      processed_data.extend(t_list)\n",
        "    else:\n",
        "      processed_data.append(text_tensor)\n",
        "\n",
        "  return processed_data\n",
        "\n",
        "train_data = data_process(df_train[['speech']].copy())\n",
        "test_data = data_process(df_test[['speech']].copy())"
      ],
      "metadata": {
        "id": "0pm7SCH352YT"
      },
      "execution_count": null,
      "outputs": []
    },
    {
      "cell_type": "code",
      "source": [
        "idx_to_word = vocab.get_itos()\n",
        "\n",
        "def index_to_word(word):\n",
        "  try:\n",
        "    return idx_to_word[word]\n",
        "  except KeyError:\n",
        "    return '<unk>'"
      ],
      "metadata": {
        "id": "hNqz4oxwLulU"
      },
      "execution_count": null,
      "outputs": []
    },
    {
      "cell_type": "code",
      "source": [
        "torch.cuda.empty_cache()"
      ],
      "metadata": {
        "id": "h2BvAIxlhOAu"
      },
      "execution_count": null,
      "outputs": []
    },
    {
      "cell_type": "code",
      "source": [
        "BATCH_SIZE = 130\n",
        "PAD_IDX = vocab['<pad>']\n",
        "BOS_IDX = vocab['<bos>']\n",
        "EOS_IDX = vocab['<eos>']\n",
        "\n",
        "\n",
        "\n",
        "from torch.nn.utils.rnn import pad_sequence\n",
        "from torch.utils.data import DataLoader\n",
        "\n",
        "def generate_batch(data_batch):\n",
        "  text_list, label_list = [], []\n",
        "  for text in data_batch:\n",
        "    text_list.append(torch.cat((torch.tensor([BOS_IDX]), text), dim=0))\n",
        "    label_list.append(torch.cat((text, torch.tensor([EOS_IDX])), dim=0))\n",
        "  text_list = pad_sequence(text_list, padding_value=PAD_IDX)\n",
        "  label_list = pad_sequence(label_list, padding_value=PAD_IDX)\n",
        "  return text_list, label_list\n",
        "\n",
        "train_iter = DataLoader(train_data, batch_size=BATCH_SIZE,\n",
        "                        shuffle=True, collate_fn=generate_batch)\n",
        "valid_iter = DataLoader(test_data, batch_size=BATCH_SIZE,\n",
        "                        shuffle=False, collate_fn=generate_batch)"
      ],
      "metadata": {
        "id": "9C9_X1rt6sfF"
      },
      "execution_count": null,
      "outputs": []
    },
    {
      "cell_type": "code",
      "source": [
        "device = torch.device(\"cuda\" if torch.cuda.is_available() else \"cpu\")"
      ],
      "metadata": {
        "id": "JDoc8_l164nj"
      },
      "execution_count": null,
      "outputs": []
    },
    {
      "cell_type": "code",
      "source": [
        "from torch import nn\n",
        "import numpy as np\n",
        "class GenerationLSTM(nn.Module):\n",
        "    def __init__(self):\n",
        "        super(GenerationLSTM, self).__init__()\n",
        "        self.lstm_size = 500\n",
        "        self.embedding_dim = 300\n",
        "        self.num_layers = 3\n",
        "\n",
        "        n_vocab = len(vocab)\n",
        "        self.embedding = nn.Embedding(\n",
        "            num_embeddings=n_vocab,\n",
        "            embedding_dim=self.embedding_dim,\n",
        "            padding_idx=PAD_IDX\n",
        "        )\n",
        "        self.lstm = nn.LSTM(\n",
        "            input_size=self.embedding_dim,\n",
        "            hidden_size=self.lstm_size,\n",
        "            num_layers=self.num_layers,\n",
        "            dropout=0.2,\n",
        "        )\n",
        "        self.fc = nn.Linear(self.lstm_size, n_vocab)\n",
        "\n",
        "    def forward(self, x, prev_state):\n",
        "        embed = self.embedding(x)\n",
        "\n",
        "    \n",
        "        output, state = self.lstm(embed, prev_state)\n",
        "        logits = self.fc(output)\n",
        "\n",
        "        return logits, state\n",
        "\n",
        "    def init_state(self, sequence_length):\n",
        "        h = np.zeros((self.num_layers, sequence_length, self.lstm_size))\n",
        "        c = np.zeros((self.num_layers, sequence_length, self.lstm_size))\n",
        "        h.fill(0.5)\n",
        "        c.fill(0.5)\n",
        "        return (torch.tensor(h, dtype=torch.float32).to(device),\n",
        "                torch.tensor(c, dtype=torch.float32).to(device))\n",
        "        \n",
        "    def init_state_p(self):\n",
        "        return (torch.zeros(self.num_layers, self.lstm_size).to(device),\n",
        "                torch.zeros(self.num_layers, self.lstm_size).to(device))"
      ],
      "metadata": {
        "id": "Z8ryoXpe6_R6"
      },
      "execution_count": null,
      "outputs": []
    },
    {
      "cell_type": "code",
      "source": [
        "train_losses = []\n",
        "val_losses = []"
      ],
      "metadata": {
        "id": "ezGnCbESxvs4"
      },
      "execution_count": null,
      "outputs": []
    },
    {
      "cell_type": "code",
      "source": [
        "from torch import optim\n",
        "import numpy as np\n",
        "\n",
        "def train_w(dataloader, model):\n",
        "    \n",
        "    model.to(device)\n",
        "\n",
        "\n",
        "    criterion = nn.CrossEntropyLoss()\n",
        "    optimizer = optim.Adam(model.parameters(), lr=0.01)\n",
        "\n",
        "    for epoch in range(1, 30):\n",
        "      losses =[]\n",
        "      model.train()\n",
        "\n",
        "      for idx, (text, label) in enumerate(dataloader):\n",
        "        label = label.to(device)\n",
        "        text = text.to(device)\n",
        "\n",
        "        state_h, state_c = model.init_state(text.shape[1])\n",
        "        optimizer.zero_grad()\n",
        "      \n",
        "        y_pred, (state_h, state_c) = model(text, (state_h, state_c))\n",
        "  \n",
        "        loss = criterion(y_pred.transpose(1, 2), label)\n",
        "        losses.append(loss.item())\n",
        "        state_h = state_h.detach()\n",
        "        state_c = state_c.detach()\n",
        "\n",
        "        loss.backward()\n",
        "        optimizer.step()\n",
        "\n",
        "      print({ 'epoch': epoch, 'loss': sum(losses)/len(losses) })\n",
        "      train_losses.append(sum(losses)/len(losses))\n",
        "      evaluate(valid_iter, model)\n",
        "\n",
        "def evaluate(dataloader, model):\n",
        "    model.eval()\n",
        "    model.to(device)\n",
        "    losses = []\n",
        "    criterion = nn.CrossEntropyLoss()\n",
        "    with torch.no_grad():\n",
        "      print('eval')\n",
        "      for idx, (text, label) in enumerate(dataloader):\n",
        "        label = label.to(device)\n",
        "        text = text.to(device)\n",
        "        state_h, state_c = model.init_state(text.shape[1])\n",
        "    \n",
        "      \n",
        "        y_pred, (state_h, state_c) = model(text, (state_h, state_c))\n",
        "\n",
        "        loss = criterion(y_pred.transpose(1, 2), label)\n",
        "        losses.append(loss.item())\n",
        "\n",
        "\n",
        "      print({'loss': sum(losses)/len(losses) })\n",
        "      val_losses.append(sum(losses)/len(losses))\n",
        "  \n",
        "\n",
        "def predict_w(model, text, next_words=50):\n",
        "    words = text.split(' ')\n",
        "    model.eval()\n",
        "    with torch.no_grad():\n",
        "      state_h, state_c = model.init_state_p()\n",
        "      \n",
        "      for i in range(0, next_words):\n",
        "          l = len(words)   \n",
        "          x = torch.tensor(vocab(text_pipeline(words))).to(device)\n",
        "          y_pred, (state_h, state_c) = model(x, (state_h, state_c))\n",
        "          \n",
        "          last_word_logits = nn.functional.softmax(y_pred[-1], dim=0)\n",
        "      \n",
        "          probs, maxk = torch.topk(last_word_logits, 3, dim=0)\n",
        "        \n",
        "          k = torch.multinomial(last_word_logits, 1)\n",
        "\n",
        "          words.append(index_to_word(k))\n",
        "\n",
        "    return words"
      ],
      "metadata": {
        "id": "LsI7c7Aa7GBq"
      },
      "execution_count": null,
      "outputs": []
    },
    {
      "cell_type": "code",
      "source": [
        "gen = GenerationLSTM()\n",
        "gen = gen.to(device)\n",
        "\n",
        "def count_parameters(model: nn.Module):\n",
        "    return sum(p.numel() for p in model.parameters() if p.requires_grad)\n",
        "print(f'The model has {count_parameters(gen):,} trainable parameters')"
      ],
      "metadata": {
        "colab": {
          "base_uri": "https://localhost:8080/"
        },
        "id": "_QhklBhB7Iwb",
        "outputId": "9960281b-9a48-49c7-c8da-b9c2f4f9be4a"
      },
      "execution_count": null,
      "outputs": [
        {
          "output_type": "stream",
          "name": "stdout",
          "text": [
            "The model has 29,459,372 trainable parameters\n"
          ]
        }
      ]
    },
    {
      "cell_type": "code",
      "source": [
        "train_w(train_iter, gen)"
      ],
      "metadata": {
        "id": "JMZcFbC0wIMD"
      },
      "execution_count": null,
      "outputs": []
    },
    {
      "cell_type": "code",
      "source": [
        "torch.save(vocab, 'vocab_new.pth')"
      ],
      "metadata": {
        "id": "QLk-I_fkZHXS"
      },
      "execution_count": null,
      "outputs": []
    },
    {
      "cell_type": "code",
      "source": [
        "torch.save(gen, 'model_snipped.pth')"
      ],
      "metadata": {
        "id": "LfYA3gb_HBik"
      },
      "execution_count": null,
      "outputs": []
    },
    {
      "cell_type": "code",
      "source": [
        "torch.save(train_iter, 'train_data.pth')\n",
        "torch.save(test_iter, 'test_data.pth')"
      ],
      "metadata": {
        "id": "GqOQmilVbxl8"
      },
      "execution_count": null,
      "outputs": []
    },
    {
      "cell_type": "code",
      "source": [
        "from matplotlib import pyplot as plt\n",
        "plt.figure(dpi=100)\n",
        "plt.subplot(121)\n",
        "plt.plot(train_losses, label='train')\n",
        "plt.plot(val_losses, label='validation')\n",
        "plt.xlabel('epoch')\n",
        "plt.ylabel('loss')\n",
        "plt.title('Losses')\n",
        "plt.legend()\n",
        "plt.show()"
      ],
      "metadata": {
        "id": "bIlIVUI-438d",
        "colab": {
          "base_uri": "https://localhost:8080/",
          "height": 404
        },
        "outputId": "6771efa8-9356-4628-d8dd-e5169f586e2d"
      },
      "execution_count": null,
      "outputs": [
        {
          "output_type": "display_data",
          "data": {
            "text/plain": [
              "<Figure size 600x400 with 1 Axes>"
            ],
            "image/png": "[encoded data removed]"
          },
          "metadata": {
            "needs_background": "light"
          }
        }
      ]
    }
  ]
}